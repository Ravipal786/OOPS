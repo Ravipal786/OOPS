{
  "nbformat": 4,
  "nbformat_minor": 0,
  "metadata": {
    "colab": {
      "provenance": []
    },
    "kernelspec": {
      "name": "python3",
      "display_name": "Python 3"
    },
    "language_info": {
      "name": "python"
    }
  },
  "cells": [
    {
      "cell_type": "markdown",
      "source": [
        "# Theory Question"
      ],
      "metadata": {
        "id": "cAIpadcv5ByB"
      }
    },
    {
      "cell_type": "markdown",
      "source": [
        "1. What is Object-Oriented Programming (OOP)?\n",
        "   - Object-Oriented Programming (OOP) is a programming paradigm that organizes software design around data, or objects, rather than functions and logic.\n",
        "\n",
        "2. What is a class in OOP?\n",
        "  - In Object-Oriented Programming (OOP), a class is a blueprint or template for creating objects (instances). It defines the structure and behavior that the objects created from the class will have.\n",
        "\n",
        "3. What is an object in OOP?\n",
        "   - In Object-Oriented Programming (OOP), an object is an instance of a class. It is a self-contained unit that contains both data (in the form of attributes or properties) and behavior (in the form of methods or functions).\n",
        "\n",
        "4. What is the difference between abstraction and encapsulation?\n",
        "   - Abstraction and Encapsulation are both fundamental concepts in Object-Oriented Programming (OOP), and while they are related, they serve different purposes. Here's a breakdown of the differences:\n",
        "\n",
        "   Abstraction:\n",
        "  \n",
        "   Definition: Abstraction is the process of hiding the complexity and implementation details of an object and exposing only the essential features or functionality to the user.\n",
        "\n",
        "   Purpose: The goal of abstraction is to provide a simple interface to interact with an object while hiding the complex internal workings.\n",
        "\n",
        "   How It Works: In abstraction, you focus on what an object does rather than how it does it.\n",
        "\n",
        "   Implementation: It is achieved through abstract classes and interfaces. An abstract class may define abstract methods that the derived classes must implement. Abstract methods do not have implementations in the abstract class, only the method signatures.\n",
        "\n",
        "   Encapsulation:\n",
        "\n",
        "  Definition: Encapsulation is the process of bundling the data (attributes) and methods (functions) that operate on the data into a single unit, typically a class. It also involves controlling access to the internal state of an object through access modifiers (like private, protected, or public).\n",
        "\n",
        "  Purpose: The goal of encapsulation is to restrict direct access to some of an object's components and ensure that the data is accessed and modified only in controlled ways.\n",
        "\n",
        "  How It Works: In encapsulation, you focus on how the data is protected and accessed. This is done by providing getter and setter methods to access private data or by defining properties.\n",
        "\n",
        "  Implementation: Encapsulation is achieved by using access modifiers like private, public, or protected. In Python, encapsulation is often implemented by prefixing attributes with a single or double underscore (e.g., _attribute, __attribute).    \n",
        "\n",
        "5. What are dunder methods in Python?\n",
        "   - In Python, dunder methods (short for \"double underscore\" methods) are special methods that have a name beginning and ending with double underscores (__). These methods are also sometimes referred to as magic methods or special methods.\n",
        "\n",
        "6. Explain the concept of inheritance in OOP?\n",
        "   - Inheritance is a fundamental concept in Object-Oriented Programming (OOP) that allows one class (called the child or subclass) to inherit the attributes and methods of another class (called the parent or superclass). This enables code reuse and establishes a relationship between the parent and child classes. The child class can then extend or override the behavior of the parent class to meet its specific needs.\n",
        "\n",
        "7. What is polymorphism in OOP?\n",
        "   - Polymorphism is one of the key concepts in Object-Oriented Programming (OOP) that allows objects of different classes to be treated as objects of a common superclass. The term \"polymorphism\" means \"many forms\" — in OOP, it allows a single method or operator to behave differently based on the object that it is acting upon.\n",
        "\n",
        "8. How is encapsulation achieved in Python?\n",
        "   - Encapsulation is a core concept in Object-Oriented Programming (OOP) that refers to the bundling of data (attributes) and the methods (functions) that operate on that data within a single unit, typically a class. Encapsulation helps to control access to the internal state of an object and restricts external code from directly modifying its attributes, which is essential for data hiding and ensuring the integrity of the object's state.\n",
        "\n",
        "9. What is a constructor in Python?\n",
        "  - In Python, the constructor is defined by the __init__ method, which is a dunder method (short for \"double underscore\"). The __init__ method is not a true constructor in the sense that it doesn't actually create the object (the object creation is handled by the __new__ method), but it is responsible for initializing the object's attributes after the object has been created.\n",
        "\n",
        "10. What are class and static methods in Python?\n",
        "    - 1. Class Method in Python\n",
        "\n",
        "     A class method is a method that is bound to the class rather than an instance of the class. It takes the class itself as its first argument, which is conventionally named cls. Class methods can access and modify class-level attributes, but they cannot access instance-specific attributes (i.e., they don’t have access to self).\n",
        "\n",
        "     2. Static Method in Python\n",
        "     A static method is a method that does not take either the instance (self) or the class (cls) as its first argument. It behaves like a regular function but is defined within a class. Static methods do not access or modify class-level or instance-level attributes. They are used for utility functions that are related to the class but don’t need access to class or instance-specific data.\n",
        "\n",
        "11.  What is method overloading in Python?\n",
        "     - Method overloading refers to the ability to define multiple methods with the same name but different parameter signatures (i.e., differing in the number or types of arguments) within a class. In many programming languages, such as Java or C++, method overloading is used to provide different behaviors for a method depending on the number or type of arguments passed to it..\n",
        "\n",
        "12. What is method overriding in OOP?\n",
        "   - Method overriding in Object-Oriented Programming (OOP) is a feature that allows a subclass (child class) to provide a specific implementation of a method that is already defined in its superclass (parent class). When a subclass defines a method with the same name, same number of parameters, and same parameter types as a method in its parent class, the method in the subclass overrides the method in the parent class.   \n",
        "\n",
        " 13. What is a property decorator in Python?\n",
        "     - In Python, a property decorator is a built-in function that is used to define getter, setter, and deleter methods for an attribute of a class in a more readable and clean way. It allows you to define methods that can be accessed like attributes, providing a way to encapsulate data and control access to it.\n",
        "\n",
        "14. Why is polymorphism important in OOP?\n",
        "    - Polymorphism is one of the core principles of Object-Oriented Programming (OOP), and it plays a crucial role in enabling flexibility, maintainability, and scalability of software. The term \"polymorphism\" means \"many forms,\" and in OOP, it refers to the ability of different classes to be treated as instances of the same class through inheritance or interfaces, while still allowing them to behave in their own unique way.\n",
        "\n",
        "15. What is an abstract class in Python?\n",
        "    - An abstract class in Python is a class that cannot be instantiated directly and serves as a blueprint for other classes. It is used to define a common interface for a group of related classes. Abstract classes allow you to define methods that must be created within any subclass, while also providing the flexibility to leave some methods unimplemented.\n",
        "\n",
        "\n",
        "16. What are the advantages of OOP?\n",
        "    - Object-Oriented Programming (OOP) is a popular programming paradigm that organizes software design around data (objects) and methods (functions) that operate on that data. OOP offers several advantages that help in developing clean, modular, and maintainable software.\n",
        "\n",
        "\n",
        "17. What is the difference between a class variable and an instance variable?\n",
        "    - In Python, class variables and instance variables are both used to store data related to a class and its objects, but they differ in terms of scope, behavior, and how they are accessed. Here's a breakdown of the key differences:\n",
        "\n",
        "   \n",
        "     Class Variable: A class variable is defined within a class, but outside of any instance methods. It is shared across all instances of the class, meaning all objects of that class share the same value for that variable.\n",
        "\n",
        "     Instance Variable: An instance variable is defined inside instance methods (usually the __init__ constructor), and each object of the class has its own separate copy of this variable.\n",
        "\n",
        "\n",
        "18. What is multiple inheritance in Python?\n",
        "    - Multiple inheritance in Python is a feature where a class can inherit attributes and methods from more than one parent class. This allows a class to combine functionality from multiple classes into a single class, which can lead to more flexible and reusable code.\n",
        "\n",
        "19. Explain the purpose of ‘’__str__’ and ‘__repr__’ ‘ methods in Python?\n",
        "    -  In Python, both __str__ and __repr__ are special methods used to define how an object should be represented as a string. However, they serve different purposes and are used in different contexts. Let’s explore the purpose and differences between these two methods.\n",
        "\n",
        "      1. __str__ Method:\n",
        "     The __str__ method is used to define a user-friendly or informal string representation of an object. This is typically a string that is easy to read for humans. It is used when you print an object or use str() on an object.\n",
        "\n",
        "     2. __repr__ Method:\n",
        "     The __repr__ method is used to define a formal or unambiguous string representation of an object, typically one that can be used to recreate the object if needed. This method is intended to provide a more technical, often complete, representation of an object that is meant for developers.\n",
        "\n",
        "20.  What is the significance of the ‘super()’ function in Python?\n",
        "     - The super() function in Python is used to call a method from a parent class in a subclass. It is a way to refer to the parent class and can be particularly useful when dealing with inheritance and method overriding. The primary purpose of super() is to invoke the parent class's methods in a controlled way, which helps manage method resolution order (MRO) and allows for more flexible and maintainable code.\n",
        "\n",
        "21. What is the significance of the __del__ method in Python ?\n",
        "    - The __del__ method in Python is a special method used to define the destructor for a class. It is called when an object is about to be destroyed or garbage collected. The purpose of __del__ is to allow for the cleanup of resources, such as closing files, network connections, or releasing any other external resources that the object may have acquired during its lifetime.\n",
        "\n",
        "22.  What is the difference between @staticmethod and @classmethod in Python?\n",
        "    - In Python, both @staticmethod and @classmethod are decorators that define methods in a class, but they have distinct differences in terms of how they behave and what they are used for.\n",
        "\n",
        "    1. @staticmethod:\n",
        "\n",
        "     A static method is a method that is bound to the class, but does not take any special first argument (like self for instance methods or cls for class methods).\n",
        "\n",
        "     It behaves just like a normal function, but it belongs to the class’s namespace.\n",
        "\n",
        "     Static methods are typically used for utility functions that perform a task related to the class but don't require access to the class or instance attributes.\n",
        "    \n",
        "    2. @classmethod:\n",
        "\n",
        "     A class method is a method that is bound to the class and not the instance. It takes the class as its first argument, typically named cls.\n",
        "\n",
        "     \n",
        "     It can access and modify class-level attributes and call other class methods, but it cannot access instance-specific attributes (i.e., attributes bound to self).\n",
        "\n",
        "     Class methods are useful when you need to operate on class-level data or perform some class-related operation, but not on individual instances.\n",
        "\n",
        "23. How does polymorphism work in Python with inheritance?\n",
        "    - In Python, when you have a class hierarchy, polymorphism allows you to call a method on an object, and Python will use the appropriate method from the class that the object is an instance of, even if the method is being called on the superclass. This enables the same method to have different behaviors based on the type of the object.\n",
        "\n",
        "24. What is method chaining in Python OOP?\n",
        "    - Method chaining in Python refers to the practice of calling multiple methods on the same object in a single line, where each method returns the object itself (or a modified version of it) to allow further method calls. This creates a chain of method calls, which can be read fluently from left to right.\n",
        "\n",
        "     How Method Chaining Works:\n",
        "\n",
        "     For method chaining to work, each method in the chain should return the object itself (self in the case of instance methods) or another object that supports the same method calls.\n",
        "\n",
        "     This is often used to create more compact and expressive code, where you can perform multiple operations on an object in a single statement.\n",
        "\n",
        "25. What is the purpose of the __call__ method in Python?\n",
        "    - he __call__ method in Python is a special method (also known as a dunder method or magic method) that allows an instance of a class to be called like a regular function. In other words, it enables an object to behave as if it were a callable function.\n",
        "\n",
        "\n",
        "      \n",
        "    "
      ],
      "metadata": {
        "id": "jWsW8Rq45IXU"
      }
    },
    {
      "cell_type": "markdown",
      "source": [
        "## PRACTICAL QUESTION"
      ],
      "metadata": {
        "id": "rbqbyE7ejzqx"
      }
    },
    {
      "cell_type": "markdown",
      "source": [
        "1. Create a parent class Animal with a method speak() that prints a generic message. Create a child class Dog\n",
        "that overrides the speak() method to print \"Bark!\"."
      ],
      "metadata": {
        "id": "8zU3RUtOqDvP"
      }
    },
    {
      "cell_type": "code",
      "source": [
        "# Parent Class: Animal\n",
        "class Animal:\n",
        "    def speak(self):\n",
        "        print(\"Animal makes a sound\")\n",
        "\n",
        "# Child Class: Dog\n",
        "class Dog(Animal):\n",
        "    def speak(self):\n",
        "        print(\"Bark!\")\n",
        "\n",
        "# Creating instances of both classes\n",
        "animal = Animal()\n",
        "dog = Dog()\n",
        "\n",
        "# Calling the speak() method\n",
        "animal.speak()  # Output: Animal makes a sound\n",
        "dog.speak()     # Output: Bark!\n"
      ],
      "metadata": {
        "colab": {
          "base_uri": "https://localhost:8080/"
        },
        "id": "zJbVSsSAqO1c",
        "outputId": "6d18cbef-b0a5-4ba0-b783-69aef5109d34"
      },
      "execution_count": 1,
      "outputs": [
        {
          "output_type": "stream",
          "name": "stdout",
          "text": [
            "Animal makes a sound\n",
            "Bark!\n"
          ]
        }
      ]
    },
    {
      "cell_type": "markdown",
      "source": [
        "2.  Write a program to create an abstract class Shape with a method area(). Derive classes Circle and Rectangle\n",
        "from it and implement the area() method in both."
      ],
      "metadata": {
        "id": "wko4jx_fqgm1"
      }
    },
    {
      "cell_type": "code",
      "source": [
        "from abc import ABC, abstractmethod\n",
        "import math\n",
        "\n",
        "# Abstract class Shape\n",
        "class Shape(ABC):\n",
        "\n",
        "    @abstractmethod\n",
        "    def area(self):\n",
        "        pass\n",
        "\n",
        "# Derived class Circle\n",
        "class Circle(Shape):\n",
        "    def __init__(self, radius):\n",
        "        self.radius = radius\n",
        "\n",
        "    def area(self):\n",
        "        return math.pi * (self.radius ** 2)\n",
        "\n",
        "# Derived class Rectangle\n",
        "class Rectangle(Shape):\n",
        "    def __init__(self, width, height):\n",
        "        self.width = width\n",
        "        self.height = height\n",
        "\n",
        "    def area(self):\n",
        "        return self.width * self.height\n",
        "\n",
        "# Creating objects of Circle and Rectangle\n",
        "circle = Circle(5)\n",
        "rectangle = Rectangle(4, 6)\n",
        "\n",
        "# Calling the area() method on both objects\n",
        "print(f\"Area of the Circle: {circle.area():.2f}\")  # Output: Area of the Circle: 78.54\n",
        "print(f\"Area of the Rectangle: {rectangle.area()}\")  # Output: Area of the Rectangle: 24\n"
      ],
      "metadata": {
        "colab": {
          "base_uri": "https://localhost:8080/"
        },
        "id": "ym-Xj3rPqk5Z",
        "outputId": "43eff671-7417-464a-ae92-be0b7058f740"
      },
      "execution_count": 2,
      "outputs": [
        {
          "output_type": "stream",
          "name": "stdout",
          "text": [
            "Area of the Circle: 78.54\n",
            "Area of the Rectangle: 24\n"
          ]
        }
      ]
    },
    {
      "cell_type": "markdown",
      "source": [
        "3. Implement a multi-level inheritance scenario where a class Vehicle has an attribute type. Derive a class Car\n",
        "and further derive a class ElectricCar that adds a battery attribute."
      ],
      "metadata": {
        "id": "nOGUUWQyq5FU"
      }
    },
    {
      "cell_type": "code",
      "source": [
        "# Parent Class: Vehicle\n",
        "class Vehicle:\n",
        "    def __init__(self, type):\n",
        "        self.type = type\n",
        "\n",
        "    def display_type(self):\n",
        "        print(f\"Vehicle Type: {self.type}\")\n",
        "\n",
        "# Child Class: Car (inherits from Vehicle)\n",
        "class Car(Vehicle):\n",
        "    def __init__(self, type, brand):\n",
        "        super().__init__(type)  # Calling the constructor of the parent class (Vehicle)\n",
        "        self.brand = brand\n",
        "\n",
        "    def display_brand(self):\n",
        "        print(f\"Car Brand: {self.brand}\")\n",
        "\n",
        "# Grandchild Class: ElectricCar (inherits from Car)\n",
        "class ElectricCar(Car):\n",
        "    def __init__(self, type, brand, battery):\n",
        "        super().__init__(type, brand)  # Calling the constructor of the parent class (Car)\n",
        "        self.battery = battery\n",
        "\n",
        "    def display_battery(self):\n",
        "        print(f\"Battery: {self.battery} kWh\")\n",
        "\n",
        "# Creating an instance of ElectricCar\n",
        "electric_car = ElectricCar(\"Electric\", \"Tesla\", 75)\n",
        "\n",
        "# Calling methods from all classes\n",
        "electric_car.display_type()      # Output: Vehicle Type: Electric\n",
        "electric_car.display_brand()     # Output: Car Brand: Tesla\n",
        "electric_car.display_battery()   # Output: Battery: 75 kWh\n"
      ],
      "metadata": {
        "colab": {
          "base_uri": "https://localhost:8080/"
        },
        "id": "0hNU6qxhrCtH",
        "outputId": "e0b27ef9-e9fa-4c84-c3b0-3bf54cb31bb1"
      },
      "execution_count": 3,
      "outputs": [
        {
          "output_type": "stream",
          "name": "stdout",
          "text": [
            "Vehicle Type: Electric\n",
            "Car Brand: Tesla\n",
            "Battery: 75 kWh\n"
          ]
        }
      ]
    },
    {
      "cell_type": "markdown",
      "source": [
        "4.  Implement a multi-level inheritance scenario where a class Vehicle has an attribute type. Derive a class Car\n",
        "and further derive a class ElectricCar that adds a battery attribute."
      ],
      "metadata": {
        "id": "4o90ps9UrGsU"
      }
    },
    {
      "cell_type": "code",
      "source": [
        "# Parent Class: Vehicle\n",
        "class Vehicle:\n",
        "    def __init__(self, type):\n",
        "        self.type = type  # Attribute that defines the type of vehicle\n",
        "\n",
        "    def display_type(self):\n",
        "        print(f\"Vehicle Type: {self.type}\")\n",
        "\n",
        "# Child Class: Car (inherits from Vehicle)\n",
        "class Car(Vehicle):\n",
        "    def __init__(self, type, brand):\n",
        "        super().__init__(type)  # Call the constructor of Vehicle to initialize 'type'\n",
        "        self.brand = brand  # Additional attribute 'brand' specific to cars\n",
        "\n",
        "    def display_brand(self):\n",
        "        print(f\"Car Brand: {self.brand}\")\n",
        "\n",
        "# Grandchild Class: ElectricCar (inherits from Car)\n",
        "class ElectricCar(Car):\n",
        "    def __init__(self, type, brand, battery):\n",
        "        super().__init__(type, brand)  # Call the constructor of Car to initialize 'type' and 'brand'\n",
        "        self.battery = battery  # Additional attribute 'battery' specific to electric cars\n",
        "\n",
        "    def display_battery(self):\n",
        "        print(f\"Battery Capacity: {self.battery} kWh\")\n",
        "\n",
        "# Creating an instance of ElectricCar\n",
        "electric_car = ElectricCar(\"Electric\", \"Tesla\", 75)\n",
        "\n",
        "# Calling methods from all classes\n",
        "electric_car.display_type()      # Output: Vehicle Type: Electric\n",
        "electric_car.display_brand()     # Output: Car Brand: Tesla\n",
        "electric_car.display_battery()   # Output: Battery Capacity: 75 kWh\n"
      ],
      "metadata": {
        "colab": {
          "base_uri": "https://localhost:8080/"
        },
        "id": "VH9KWVn7rydZ",
        "outputId": "9ae80527-127e-4961-8430-8382704200c9"
      },
      "execution_count": 5,
      "outputs": [
        {
          "output_type": "stream",
          "name": "stdout",
          "text": [
            "Vehicle Type: Electric\n",
            "Car Brand: Tesla\n",
            "Battery Capacity: 75 kWh\n"
          ]
        }
      ]
    },
    {
      "cell_type": "markdown",
      "source": [
        "5.  Write a program to demonstrate encapsulation by creating a class BankAccount with private attributes\n",
        "balance and methods to deposit, withdraw, and check balance."
      ],
      "metadata": {
        "id": "dBoDcOpAs6Jm"
      }
    },
    {
      "cell_type": "code",
      "source": [
        "class BankAccount:\n",
        "    def __init__(self, initial_balance=0):\n",
        "        # Private attribute balance\n",
        "        self.__balance = initial_balance\n",
        "\n",
        "    # Method to deposit money\n",
        "    def deposit(self, amount):\n",
        "        if amount > 0:\n",
        "            self.__balance += amount\n",
        "            print(f\"Deposited: ${amount}\")\n",
        "        else:\n",
        "            print(\"Deposit amount must be positive.\")\n",
        "\n",
        "    # Method to withdraw money\n",
        "    def withdraw(self, amount):\n",
        "        if amount > 0 and amount <= self.__balance:\n",
        "            self.__balance -= amount\n",
        "            print(f\"Withdrew: ${amount}\")\n",
        "        elif amount > self.__balance:\n",
        "            print(\"Insufficient funds!\")\n",
        "        else:\n",
        "            print(\"Withdrawal amount must be positive.\")\n",
        "\n",
        "    # Method to check the balance\n",
        "    def check_balance(self):\n",
        "        print(f\"Current Balance: ${self.__balance}\")\n",
        "\n",
        "# Creating an instance of BankAccount\n",
        "account = BankAccount(1000)\n",
        "\n",
        "# Checking the initial balance\n",
        "account.check_balance()  # Output: Current Balance: $1000\n",
        "\n",
        "# Depositing money\n",
        "account.deposit(500)  # Output: Deposited: $500\n",
        "\n",
        "# Withdrawing money\n",
        "account.withdraw(300)  # Output: Withdrew: $300\n",
        "\n",
        "# Trying to withdraw more money than the balance\n",
        "account.withdraw(1500)  # Output: Insufficient funds!\n",
        "\n",
        "# Checking the balance after transactions\n",
        "account.check_balance()  # Output: Current Balance: $1200\n"
      ],
      "metadata": {
        "colab": {
          "base_uri": "https://localhost:8080/"
        },
        "id": "w2zcJeuqt98f",
        "outputId": "4abbc66d-563b-428d-c8c4-8aa0e19e45b1"
      },
      "execution_count": 6,
      "outputs": [
        {
          "output_type": "stream",
          "name": "stdout",
          "text": [
            "Current Balance: $1000\n",
            "Deposited: $500\n",
            "Withdrew: $300\n",
            "Insufficient funds!\n",
            "Current Balance: $1200\n"
          ]
        }
      ]
    },
    {
      "cell_type": "markdown",
      "source": [
        "6. Demonstrate runtime polymorphism using a method play() in a base class Instrument. Derive classes Guitar\n",
        "and Piano that implement their own version of play()."
      ],
      "metadata": {
        "id": "pDqKO1BnuOf7"
      }
    },
    {
      "cell_type": "code",
      "source": [
        "# Base class: Instrument\n",
        "class Instrument:\n",
        "    def play(self):\n",
        "        print(\"Playing an instrument\")\n",
        "\n",
        "# Derived class: Guitar\n",
        "class Guitar(Instrument):\n",
        "    def play(self):\n",
        "        print(\"Strumming the guitar\")\n",
        "\n",
        "# Derived class: Piano\n",
        "class Piano(Instrument):\n",
        "    def play(self):\n",
        "        print(\"Playing the piano\")\n",
        "\n",
        "# Demonstrating runtime polymorphism\n",
        "def demonstrate_play(instrument):\n",
        "    instrument.play()\n",
        "\n",
        "# Creating instances of Guitar and Piano\n",
        "guitar = Guitar()\n",
        "piano = Piano()\n",
        "\n",
        "# Calling the play() method for both objects\n",
        "demonstrate_play(guitar)  # Output: Strumming the guitar\n",
        "demonstrate_play(piano)   # Output: Playing the piano\n"
      ],
      "metadata": {
        "colab": {
          "base_uri": "https://localhost:8080/"
        },
        "id": "YnROO5Cauvam",
        "outputId": "9ea919ec-0c52-46d9-e31e-475458c9df30"
      },
      "execution_count": 7,
      "outputs": [
        {
          "output_type": "stream",
          "name": "stdout",
          "text": [
            "Strumming the guitar\n",
            "Playing the piano\n"
          ]
        }
      ]
    },
    {
      "cell_type": "markdown",
      "source": [
        "7.  Create a class MathOperations with a class method add_numbers() to add two numbers and a static\n",
        "method subtract_numbers() to subtract two numbers."
      ],
      "metadata": {
        "id": "mW1zNIeGvGVD"
      }
    },
    {
      "cell_type": "code",
      "source": [
        "class MathOperations:\n",
        "\n",
        "    @classmethod\n",
        "    def add_numbers(cls, num1, num2):\n",
        "        return num1 + num2\n",
        "\n",
        "    @staticmethod\n",
        "    def subtract_numbers(num1, num2):\n",
        "        return num1 - num2\n",
        "\n",
        "# Using the class method and static method\n",
        "result_add = MathOperations.add_numbers(10, 5)       # Class method called on the class\n",
        "result_subtract = MathOperations.subtract_numbers(10, 5)  # Static method called on the class\n",
        "\n",
        "# Output results\n",
        "print(f\"Addition Result: {result_add}\")      # Output: Addition Result: 15\n",
        "print(f\"Subtraction Result: {result_subtract}\")  # Output: Subtraction Result: 5\n"
      ],
      "metadata": {
        "colab": {
          "base_uri": "https://localhost:8080/"
        },
        "id": "Gi1MrhqZvRh7",
        "outputId": "c64850d5-4f8c-4417-8037-d09f24c9dffa"
      },
      "execution_count": 8,
      "outputs": [
        {
          "output_type": "stream",
          "name": "stdout",
          "text": [
            "Addition Result: 15\n",
            "Subtraction Result: 5\n"
          ]
        }
      ]
    },
    {
      "cell_type": "markdown",
      "source": [
        "8.  Implement a class Person with a class method to count the total number of persons created."
      ],
      "metadata": {
        "id": "KkohxPv3DnRT"
      }
    },
    {
      "cell_type": "code",
      "source": [
        "class Person:\n",
        "    # Class variable to store the count of persons\n",
        "    total_persons = 0\n",
        "\n",
        "    def __init__(self, name, age):\n",
        "        self.name = name\n",
        "        self.age = age\n",
        "        # Increment the total_persons count whenever a new Person object is created\n",
        "        Person.total_persons += 1\n",
        "\n",
        "    # Class method to get the total number of persons\n",
        "    @classmethod\n",
        "    def count_persons(cls):\n",
        "        return cls.total_persons\n",
        "\n",
        "# Creating instances of Person\n",
        "person1 = Person(\"Alice\", 30)\n",
        "person2 = Person(\"Bob\", 25)\n",
        "person3 = Person(\"Charlie\", 35)\n",
        "\n",
        "# Using the class method to get the total count of persons created\n",
        "print(f\"Total persons created: {Person.count_persons()}\")  # Output: Total persons created: 3\n"
      ],
      "metadata": {
        "colab": {
          "base_uri": "https://localhost:8080/"
        },
        "id": "5sm4XzEFDzYo",
        "outputId": "469722de-4478-4960-c8f5-d1db1bf5df70"
      },
      "execution_count": 9,
      "outputs": [
        {
          "output_type": "stream",
          "name": "stdout",
          "text": [
            "Total persons created: 3\n"
          ]
        }
      ]
    },
    {
      "cell_type": "markdown",
      "source": [
        "9. Write a class Fraction with attributes numerator and denominator. Override the str method to display the\n",
        "fraction as \"numerator/denominator\"."
      ],
      "metadata": {
        "id": "MCaIRtWgD6cU"
      }
    },
    {
      "cell_type": "code",
      "source": [
        "class Fraction:\n",
        "    def __init__(self, numerator, denominator):\n",
        "        self.numerator = numerator\n",
        "        self.denominator = denominator\n",
        "\n",
        "    # Overriding the __str__ method to display the fraction\n",
        "    def __str__(self):\n",
        "        return f\"{self.numerator}/{self.denominator}\"\n",
        "\n",
        "# Creating an instance of the Fraction class\n",
        "fraction1 = Fraction(3, 4)\n",
        "\n",
        "# Displaying the fraction using the __str__ method\n",
        "print(fraction1)  # Output: 3/4\n"
      ],
      "metadata": {
        "colab": {
          "base_uri": "https://localhost:8080/"
        },
        "id": "LgPjDXvhECGv",
        "outputId": "5b994d67-b630-4aad-a42a-21228bf4f234"
      },
      "execution_count": 10,
      "outputs": [
        {
          "output_type": "stream",
          "name": "stdout",
          "text": [
            "3/4\n"
          ]
        }
      ]
    },
    {
      "cell_type": "markdown",
      "source": [
        "10.  Demonstrate operator overloading by creating a class Vector and overriding the add method to add two\n",
        "vectors."
      ],
      "metadata": {
        "id": "nDwR3E7QEHSr"
      }
    },
    {
      "cell_type": "code",
      "source": [
        "class Vector:\n",
        "    def __init__(self, x, y):\n",
        "        self.x = x  # x-coordinate of the vector\n",
        "        self.y = y  # y-coordinate of the vector\n",
        "\n",
        "    # Overloading the '+' operator using __add__ method\n",
        "    def __add__(self, other):\n",
        "        # Adding corresponding x and y components of two vectors\n",
        "        return Vector(self.x + other.x, self.y + other.y)\n",
        "\n",
        "    # Overriding the __str__ method to display the vector\n",
        "    def __str__(self):\n",
        "        return f\"({self.x}, {self.y})\"\n",
        "\n",
        "# Creating two vector instances\n",
        "vector1 = Vector(2, 3)\n",
        "vector2 = Vector(4, 1)\n",
        "\n",
        "# Adding two vectors using the overloaded '+' operator\n",
        "result = vector1 + vector2\n",
        "\n",
        "# Displaying the result of the addition\n",
        "print(f\"Result of vector addition: {result}\")  # Output: (6, 4)\n"
      ],
      "metadata": {
        "colab": {
          "base_uri": "https://localhost:8080/"
        },
        "id": "or3uyC6hEO3u",
        "outputId": "d68421a1-3ca2-4eac-bc09-625268f53e00"
      },
      "execution_count": 11,
      "outputs": [
        {
          "output_type": "stream",
          "name": "stdout",
          "text": [
            "Result of vector addition: (6, 4)\n"
          ]
        }
      ]
    },
    {
      "cell_type": "markdown",
      "source": [
        "11. . Create a class Person with attributes name and age. Add a method greet() that prints \"Hello, my name is\n",
        "{name} and I am {age} years old.\""
      ],
      "metadata": {
        "id": "DmZZzR9wESZC"
      }
    },
    {
      "cell_type": "code",
      "source": [
        "class Person:\n",
        "    def __init__(self, name, age):\n",
        "        self.name = name  # Name attribute\n",
        "        self.age = age    # Age attribute\n",
        "\n",
        "    def greet(self):\n",
        "        # Print a greeting message with the name and age\n",
        "        print(f\"Hello, my name is {self.name} and I am {self.age} years old.\")\n",
        "\n",
        "# Creating an instance of the Person class\n",
        "person1 = Person(\"Alice\", 30)\n",
        "\n",
        "# Calling the greet method\n",
        "person1.greet()  # Output: Hello, my name is Alice and I am 30 years old.\n"
      ],
      "metadata": {
        "colab": {
          "base_uri": "https://localhost:8080/"
        },
        "id": "FCbzYxbJEbHU",
        "outputId": "7cc83983-e71b-4b17-da28-f8a4f7bb8fa3"
      },
      "execution_count": 12,
      "outputs": [
        {
          "output_type": "stream",
          "name": "stdout",
          "text": [
            "Hello, my name is Alice and I am 30 years old.\n"
          ]
        }
      ]
    },
    {
      "cell_type": "markdown",
      "source": [
        "12.  Implement a class Student with attributes name and grades. Create a method average_grade() to compute\n",
        "the average of the grades."
      ],
      "metadata": {
        "id": "MIu5bACvEjhO"
      }
    },
    {
      "cell_type": "code",
      "source": [
        "class Student:\n",
        "    def __init__(self, name, grades):\n",
        "        self.name = name        # Name of the student\n",
        "        self.grades = grades    # List of grades\n",
        "\n",
        "    def average_grade(self):\n",
        "        # Calculate the average of the grades\n",
        "        if len(self.grades) > 0:\n",
        "            average = sum(self.grades) / len(self.grades)\n",
        "            return average\n",
        "        else:\n",
        "            return 0  # Return 0 if no grades are provided\n",
        "\n",
        "# Creating an instance of the Student class\n",
        "student1 = Student(\"Alice\", [85, 90, 78, 92, 88])\n",
        "\n",
        "# Calling the average_grade method\n",
        "average = student1.average_grade()\n",
        "\n",
        "# Output the average grade\n",
        "print(f\"{student1.name}'s average grade is: {average:.2f}\")  # Output: Alice's average grade is: 86.60\n"
      ],
      "metadata": {
        "colab": {
          "base_uri": "https://localhost:8080/"
        },
        "id": "fa6iOxjpvFwJ",
        "outputId": "a0e004e2-3bf2-4c88-898c-1ff4c6f3a4d7"
      },
      "execution_count": 14,
      "outputs": [
        {
          "output_type": "stream",
          "name": "stdout",
          "text": [
            "Alice's average grade is: 86.60\n"
          ]
        }
      ]
    },
    {
      "cell_type": "markdown",
      "source": [
        "13.  Create a class Rectangle with methods set_dimensions() to set the dimensions and area() to calculate the\n",
        "area."
      ],
      "metadata": {
        "id": "lgLpYW3rFF3z"
      }
    },
    {
      "cell_type": "code",
      "source": [
        "class Rectangle:\n",
        "    def __init__(self):\n",
        "        self.length = 0  # Initialize length to 0\n",
        "        self.width = 0   # Initialize width to 0\n",
        "\n",
        "    def set_dimensions(self, length, width):\n",
        "        # Set the dimensions (length and width) of the rectangle\n",
        "        self.length = length\n",
        "        self.width = width\n",
        "\n",
        "    def area(self):\n",
        "        # Calculate and return the area of the rectangle\n",
        "        return self.length * self.width\n",
        "\n",
        "# Creating an instance of the Rectangle class\n",
        "rectangle1 = Rectangle()\n",
        "\n",
        "# Setting dimensions of the rectangle\n",
        "rectangle1.set_dimensions(5, 3)\n",
        "\n",
        "# Calculating and printing the area\n",
        "area = rectangle1.area()\n",
        "print(f\"The area of the rectangle is: {area}\")  # Output: The area of the rectangle is: 15\n"
      ],
      "metadata": {
        "colab": {
          "base_uri": "https://localhost:8080/"
        },
        "id": "0zWLrhCZFNiq",
        "outputId": "d14e1cf8-8136-4087-8811-59a6c46c0d60"
      },
      "execution_count": 15,
      "outputs": [
        {
          "output_type": "stream",
          "name": "stdout",
          "text": [
            "The area of the rectangle is: 15\n"
          ]
        }
      ]
    },
    {
      "cell_type": "markdown",
      "source": [
        "14.  Create a class Employee with a method calculate_salary() that computes the salary based on hours worked\n",
        "and hourly rate. Create a derived class Manager that adds a bonus to the salary."
      ],
      "metadata": {
        "id": "T5vLzCKWFQOD"
      }
    },
    {
      "cell_type": "code",
      "source": [
        "class Employee:\n",
        "    def __init__(self, name, hours_worked, hourly_rate):\n",
        "        self.name = name               # Employee's name\n",
        "        self.hours_worked = hours_worked  # Number of hours worked\n",
        "        self.hourly_rate = hourly_rate    # Hourly rate of the employee\n",
        "\n",
        "    def calculate_salary(self):\n",
        "        # Calculate salary based on hours worked and hourly rate\n",
        "        salary = self.hours_worked * self.hourly_rate\n",
        "        return salary\n",
        "\n",
        "class Manager(Employee):\n",
        "    def __init__(self, name, hours_worked, hourly_rate, bonus):\n",
        "        # Call the parent constructor to initialize the name, hours_worked, and hourly_rate\n",
        "        super().__init__(name, hours_worked, hourly_rate)\n",
        "        self.bonus = bonus  # Bonus for the manager\n",
        "\n",
        "    def calculate_salary(self):\n",
        "        # Calculate salary based on parent method and add the bonus\n",
        "        base_salary = super().calculate_salary()  # Base salary from the parent class\n",
        "        total_salary = base_salary + self.bonus  # Add the bonus to the base salary\n",
        "        return total_salary\n",
        "\n",
        "# Creating an instance of Employee\n",
        "employee1 = Employee(\"John\", 160, 25)  # 160 hours worked at $25/hour\n",
        "\n",
        "# Creating an instance of Manager\n",
        "manager1 = Manager(\"Alice\", 160, 30, 5000)  # 160 hours worked at $30/hour with a $5000 bonus\n",
        "\n",
        "# Calculating and printing the salary for Employee and Manager\n",
        "print(f\"{employee1.name}'s salary is: ${employee1.calculate_salary()}\")  # Output: $4000\n",
        "print(f\"{manager1.name}'s salary is: ${manager1.calculate_salary()}\")    # Output: $9500\n"
      ],
      "metadata": {
        "colab": {
          "base_uri": "https://localhost:8080/"
        },
        "id": "PkgUXMtwFZ93",
        "outputId": "500a866f-2189-4098-b726-7f8291b0465e"
      },
      "execution_count": 16,
      "outputs": [
        {
          "output_type": "stream",
          "name": "stdout",
          "text": [
            "John's salary is: $4000\n",
            "Alice's salary is: $9800\n"
          ]
        }
      ]
    },
    {
      "cell_type": "markdown",
      "source": [
        "15.  Create a class Product with attributes name, price, and quantity. Implement a method total_price() that\n",
        "calculates the total price of the product."
      ],
      "metadata": {
        "id": "CmWnulI6F5Cl"
      }
    },
    {
      "cell_type": "code",
      "source": [
        "class Product:\n",
        "    def __init__(self, name, price, quantity):\n",
        "        self.name = name        # Product name\n",
        "        self.price = price      # Price of the product\n",
        "        self.quantity = quantity  # Quantity of the product\n",
        "\n",
        "    def total_price(self):\n",
        "        # Calculate the total price of the product (price * quantity)\n",
        "        return self.price * self.quantity\n",
        "\n",
        "# Creating an instance of the Product class\n",
        "product1 = Product(\"Laptop\", 1000, 3)\n",
        "\n",
        "# Calculating and printing the total price\n",
        "total = product1.total_price()\n",
        "print(f\"The total price of {product1.name} is: ${total}\")  # Output: The total price of Laptop is: $3000\n"
      ],
      "metadata": {
        "colab": {
          "base_uri": "https://localhost:8080/"
        },
        "id": "uAwgF-ocGXx4",
        "outputId": "da4c7ecd-012c-414c-8b3f-03139be4d891"
      },
      "execution_count": 17,
      "outputs": [
        {
          "output_type": "stream",
          "name": "stdout",
          "text": [
            "The total price of Laptop is: $3000\n"
          ]
        }
      ]
    },
    {
      "cell_type": "markdown",
      "source": [
        "16. Create a class Animal with an abstract method sound(). Create two derived classes Cow and Sheep that\n",
        "implement the sound() method."
      ],
      "metadata": {
        "id": "_ICW2It8GbL4"
      }
    },
    {
      "cell_type": "code",
      "source": [
        "from abc import ABC, abstractmethod\n",
        "\n",
        "# Abstract base class\n",
        "class Animal(ABC):\n",
        "    @abstractmethod\n",
        "    def sound(self):\n",
        "        pass\n",
        "\n",
        "# Derived class Cow\n",
        "class Cow(Animal):\n",
        "    def sound(self):\n",
        "        return \"Moo\"\n",
        "\n",
        "# Derived class Sheep\n",
        "class Sheep(Animal):\n",
        "    def sound(self):\n",
        "        return \"Baa\"\n",
        "\n",
        "# Creating instances of Cow and Sheep\n",
        "cow = Cow()\n",
        "sheep = Sheep()\n",
        "\n",
        "# Calling the sound() method\n",
        "print(f\"The cow says: {cow.sound()}\")  # Output: The cow says: Moo\n",
        "print(f\"The sheep says: {sheep.sound()}\")  # Output: The sheep says: Baa\n"
      ],
      "metadata": {
        "colab": {
          "base_uri": "https://localhost:8080/"
        },
        "id": "-ITXAXHJG4rW",
        "outputId": "e932a600-3714-4276-a708-0b5491a8b1c6"
      },
      "execution_count": 18,
      "outputs": [
        {
          "output_type": "stream",
          "name": "stdout",
          "text": [
            "The cow says: Moo\n",
            "The sheep says: Baa\n"
          ]
        }
      ]
    },
    {
      "cell_type": "markdown",
      "source": [
        "17. Create a class Book with attributes title, author, and year_published. Add a method get_book_info() that\n",
        "returns a formatted string with the book's details."
      ],
      "metadata": {
        "id": "WxRtSpzaHDQt"
      }
    },
    {
      "cell_type": "code",
      "source": [
        "class Book:\n",
        "    def __init__(self, title, author, year_published):\n",
        "        self.title = title               # Book title\n",
        "        self.author = author             # Book author\n",
        "        self.year_published = year_published  # Year the book was published\n",
        "\n",
        "    def get_book_info(self):\n",
        "        # Return a formatted string with the book's details\n",
        "        return f\"Title: {self.title}\\nAuthor: {self.author}\\nYear Published: {self.year_published}\"\n",
        "\n",
        "# Creating an instance of the Book class\n",
        "book1 = Book(\"The Great Gatsby\", \"F. Scott Fitzgerald\", 1925)\n",
        "\n",
        "# Calling the get_book_info method to display the book's details\n",
        "book_info = book1.get_book_info()\n",
        "print(book_info)\n"
      ],
      "metadata": {
        "colab": {
          "base_uri": "https://localhost:8080/"
        },
        "id": "820Jruw-HOdU",
        "outputId": "6c8b987c-42b2-4d45-b94f-ba47adf7feae"
      },
      "execution_count": 19,
      "outputs": [
        {
          "output_type": "stream",
          "name": "stdout",
          "text": [
            "Title: The Great Gatsby\n",
            "Author: F. Scott Fitzgerald\n",
            "Year Published: 1925\n"
          ]
        }
      ]
    },
    {
      "cell_type": "markdown",
      "source": [
        "20.  Create a class House with attributes address and price. Create a derived class Mansion that adds an\n",
        "attribute number_of_rooms."
      ],
      "metadata": {
        "id": "CTVmCf2LHTK7"
      }
    },
    {
      "cell_type": "code",
      "source": [
        "# Parent class House\n",
        "class House:\n",
        "    def __init__(self, address, price):\n",
        "        self.address = address  # Address of the house\n",
        "        self.price = price      # Price of the house\n",
        "\n",
        "# Derived class Mansion\n",
        "class Mansion(House):\n",
        "    def __init__(self, address, price, number_of_rooms):\n",
        "        # Call the parent constructor to initialize address and price\n",
        "        super().__init__(address, price)\n",
        "        self.number_of_rooms = number_of_rooms  # Number of rooms in the mansion\n",
        "\n",
        "# Creating an instance of the House class\n",
        "house1 = House(\"123 Main St\", 250000)\n",
        "\n",
        "# Creating an instance of the Mansion class\n",
        "mansion1 = Mansion(\"456 Luxury Ln\", 5000000, 12)\n",
        "\n",
        "# Printing the details of the house and mansion\n",
        "print(f\"House Address: {house1.address}, Price: ${house1.price}\")\n",
        "print(f\"Mansion Address: {mansion1.address}, Price: ${mansion1.price}, Rooms: {mansion1.number_of_rooms}\")\n"
      ],
      "metadata": {
        "colab": {
          "base_uri": "https://localhost:8080/"
        },
        "id": "gxxGEZSSHr2y",
        "outputId": "710868d2-b868-494f-bca0-6639a4392725"
      },
      "execution_count": 20,
      "outputs": [
        {
          "output_type": "stream",
          "name": "stdout",
          "text": [
            "House Address: 123 Main St, Price: $250000\n",
            "Mansion Address: 456 Luxury Ln, Price: $5000000, Rooms: 12\n"
          ]
        }
      ]
    },
    {
      "cell_type": "code",
      "source": [],
      "metadata": {
        "id": "J6HVawnWHeve"
      },
      "execution_count": null,
      "outputs": []
    },
    {
      "cell_type": "code",
      "source": [],
      "metadata": {
        "id": "a29wNxuDuNz7"
      },
      "execution_count": null,
      "outputs": []
    },
    {
      "cell_type": "markdown",
      "source": [],
      "metadata": {
        "id": "x2Q88EZZt9Cm"
      }
    },
    {
      "cell_type": "code",
      "source": [],
      "metadata": {
        "id": "DihmdcGqr1rD"
      },
      "execution_count": null,
      "outputs": []
    }
  ]
}